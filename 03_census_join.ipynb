{
 "cells": [
  {
   "cell_type": "code",
   "execution_count": 141,
   "metadata": {},
   "outputs": [],
   "source": [
    "# import modules\n",
    "import glob\n",
    "import pandas as pd\n",
    "import geopandas as gpd\n",
    "import numpy as np"
   ]
  },
  {
   "cell_type": "code",
   "execution_count": 142,
   "metadata": {},
   "outputs": [
    {
     "name": "stdout",
     "output_type": "stream",
     "text": [
      "ttimes cols:  Index(['x', 'y', 'YKR_ID', 'pt_r_t_0', 'pt_r_t_1', 'pt_r_t_2', 'pt_r_t_3',\n",
      "       'pt_r_t_4', 'pt_r_t_5', 'min_t', 'min_idx', 'geometry'],\n",
      "      dtype='object')\n",
      "pop cols:  Index(['YKR_ID', 'ASUKKAITA'], dtype='object')\n"
     ]
    }
   ],
   "source": [
    "ttimes = gpd.read_file('results/travel_times_min.shp')\n",
    "ykr_pop = pd.read_csv('results/ykr_pop_join.csv')\n",
    "\n",
    "# print column names\n",
    "print('ttimes cols: ', ttimes.columns)\n",
    "print('pop cols: ', ykr_pop.columns)"
   ]
  },
  {
   "cell_type": "code",
   "execution_count": 143,
   "metadata": {},
   "outputs": [
    {
     "data": {
      "text/html": [
       "<div>\n",
       "<style scoped>\n",
       "    .dataframe tbody tr th:only-of-type {\n",
       "        vertical-align: middle;\n",
       "    }\n",
       "\n",
       "    .dataframe tbody tr th {\n",
       "        vertical-align: top;\n",
       "    }\n",
       "\n",
       "    .dataframe thead th {\n",
       "        text-align: right;\n",
       "    }\n",
       "</style>\n",
       "<table border=\"1\" class=\"dataframe\">\n",
       "  <thead>\n",
       "    <tr style=\"text-align: right;\">\n",
       "      <th></th>\n",
       "      <th>x</th>\n",
       "      <th>y</th>\n",
       "      <th>YKR_ID</th>\n",
       "      <th>pt_r_t_0</th>\n",
       "      <th>pt_r_t_1</th>\n",
       "      <th>pt_r_t_2</th>\n",
       "      <th>pt_r_t_3</th>\n",
       "      <th>pt_r_t_4</th>\n",
       "      <th>pt_r_t_5</th>\n",
       "      <th>min_t</th>\n",
       "      <th>min_idx</th>\n",
       "      <th>geometry</th>\n",
       "      <th>ASUKKAITA</th>\n",
       "    </tr>\n",
       "  </thead>\n",
       "  <tbody>\n",
       "    <tr>\n",
       "      <th>0</th>\n",
       "      <td>382125.0</td>\n",
       "      <td>6697630.0</td>\n",
       "      <td>5787548</td>\n",
       "      <td>138.0</td>\n",
       "      <td>115.0</td>\n",
       "      <td>147.0</td>\n",
       "      <td>115.0</td>\n",
       "      <td>111.0</td>\n",
       "      <td>130.0</td>\n",
       "      <td>111</td>\n",
       "      <td>pt_r_t_4</td>\n",
       "      <td>POLYGON ((382250.0001387566 6697500.000128225,...</td>\n",
       "      <td>10</td>\n",
       "    </tr>\n",
       "    <tr>\n",
       "      <th>1</th>\n",
       "      <td>380875.0</td>\n",
       "      <td>6697130.0</td>\n",
       "      <td>5791356</td>\n",
       "      <td>86.0</td>\n",
       "      <td>64.0</td>\n",
       "      <td>91.0</td>\n",
       "      <td>65.0</td>\n",
       "      <td>60.0</td>\n",
       "      <td>79.0</td>\n",
       "      <td>60</td>\n",
       "      <td>pt_r_t_4</td>\n",
       "      <td>POLYGON ((381000.0001390452 6697000.000128352,...</td>\n",
       "      <td>13</td>\n",
       "    </tr>\n",
       "  </tbody>\n",
       "</table>\n",
       "</div>"
      ],
      "text/plain": [
       "          x          y   YKR_ID  pt_r_t_0  pt_r_t_1  pt_r_t_2  pt_r_t_3  \\\n",
       "0  382125.0  6697630.0  5787548     138.0     115.0     147.0     115.0   \n",
       "1  380875.0  6697130.0  5791356      86.0      64.0      91.0      65.0   \n",
       "\n",
       "   pt_r_t_4  pt_r_t_5  min_t   min_idx  \\\n",
       "0     111.0     130.0    111  pt_r_t_4   \n",
       "1      60.0      79.0     60  pt_r_t_4   \n",
       "\n",
       "                                            geometry  ASUKKAITA  \n",
       "0  POLYGON ((382250.0001387566 6697500.000128225,...         10  \n",
       "1  POLYGON ((381000.0001390452 6697000.000128352,...         13  "
      ]
     },
     "execution_count": 143,
     "metadata": {},
     "output_type": "execute_result"
    }
   ],
   "source": [
    "# join population info (from points) to grid cells\n",
    "ttimes_pop = pd.merge(ttimes, ykr_pop, how='inner', on='YKR_ID')\n",
    "ttimes_pop.head(2)"
   ]
  },
  {
   "cell_type": "code",
   "execution_count": 144,
   "metadata": {},
   "outputs": [
    {
     "name": "stdout",
     "output_type": "stream",
     "text": [
      "pop cells: 5797\n",
      "pop cells: 5797\n",
      "ttimes: 13020\n",
      "ttimes & pop: 5789\n",
      "ttimes & pop: 5789\n"
     ]
    }
   ],
   "source": [
    "print('pop cells:', len(ykr_pop))\n",
    "print('pop cells:', len(ykr_pop.YKR_ID.unique()))\n",
    "print('ttimes:', len(ttimes))\n",
    "print('ttimes & pop:', len(ttimes_pop))\n",
    "print('ttimes & pop:', len(ttimes_pop.YKR_ID.unique()))"
   ]
  },
  {
   "cell_type": "code",
   "execution_count": 165,
   "metadata": {},
   "outputs": [
    {
     "name": "stdout",
     "output_type": "stream",
     "text": [
      "83\n",
      "83\n",
      "83\n",
      "1120677\n"
     ]
    },
    {
     "data": {
      "text/html": [
       "<div>\n",
       "<style scoped>\n",
       "    .dataframe tbody tr th:only-of-type {\n",
       "        vertical-align: middle;\n",
       "    }\n",
       "\n",
       "    .dataframe tbody tr th {\n",
       "        vertical-align: top;\n",
       "    }\n",
       "\n",
       "    .dataframe thead th {\n",
       "        text-align: right;\n",
       "    }\n",
       "</style>\n",
       "<table border=\"1\" class=\"dataframe\">\n",
       "  <thead>\n",
       "    <tr style=\"text-align: right;\">\n",
       "      <th></th>\n",
       "      <th>time</th>\n",
       "      <th>population</th>\n",
       "      <th>cumpopulation</th>\n",
       "    </tr>\n",
       "  </thead>\n",
       "  <tbody>\n",
       "    <tr>\n",
       "      <th>0</th>\n",
       "      <td>0</td>\n",
       "      <td>1010</td>\n",
       "      <td>2020</td>\n",
       "    </tr>\n",
       "    <tr>\n",
       "      <th>1</th>\n",
       "      <td>5</td>\n",
       "      <td>164</td>\n",
       "      <td>1338</td>\n",
       "    </tr>\n",
       "    <tr>\n",
       "      <th>2</th>\n",
       "      <td>6</td>\n",
       "      <td>2158</td>\n",
       "      <td>5490</td>\n",
       "    </tr>\n",
       "    <tr>\n",
       "      <th>3</th>\n",
       "      <td>7</td>\n",
       "      <td>6010</td>\n",
       "      <td>15352</td>\n",
       "    </tr>\n",
       "    <tr>\n",
       "      <th>4</th>\n",
       "      <td>8</td>\n",
       "      <td>5716</td>\n",
       "      <td>20774</td>\n",
       "    </tr>\n",
       "  </tbody>\n",
       "</table>\n",
       "</div>"
      ],
      "text/plain": [
       "   time  population  cumpopulation\n",
       "0     0        1010           2020\n",
       "1     5         164           1338\n",
       "2     6        2158           5490\n",
       "3     7        6010          15352\n",
       "4     8        5716          20774"
      ]
     },
     "execution_count": 165,
     "metadata": {},
     "output_type": "execute_result"
    }
   ],
   "source": [
    "# calculate cumulative population sums\n",
    "\n",
    "grouped = ttimes_pop.groupby(['min_t'])\n",
    "\n",
    "times = []\n",
    "pops = []\n",
    "cumpops = []\n",
    "totpop = 0\n",
    "for idx, values in grouped:\n",
    "    times.append(idx)\n",
    "    pops.append(values['ASUKKAITA'].sum())\n",
    "    totpop = sum(pops) + values['ASUKKAITA'].sum()\n",
    "    cumpops.append(totpop)\n",
    "\n",
    "cum_pops = gpd.GeoDataFrame(data={'time': times, 'population': pops, 'cumpopulation': cumpops})  \n",
    "\n",
    "print(len(times))\n",
    "print(len(pops))\n",
    "print(len(cumpops))\n",
    "print(totpop)\n",
    "cum_pops.head(5)\n"
   ]
  },
  {
   "cell_type": "code",
   "execution_count": 167,
   "metadata": {},
   "outputs": [
    {
     "data": {
      "text/plain": [
       "[<matplotlib.lines.Line2D at 0x12276cef0>]"
      ]
     },
     "execution_count": 167,
     "metadata": {},
     "output_type": "execute_result"
    },
    {
     "data": {
      "image/png": "[encoded data removed]",
      "text/plain": [
       "<Figure size 432x288 with 1 Axes>"
      ]
     },
     "metadata": {},
     "output_type": "display_data"
    }
   ],
   "source": [
    "import matplotlib.pyplot as plt\n",
    "\n",
    "plt.plot(cum_pops['time'], cum_pops['cumpopulation'])"
   ]
  },
  {
   "cell_type": "code",
   "execution_count": null,
   "metadata": {},
   "outputs": [],
   "source": []
  }
 ],
 "metadata": {
  "kernelspec": {
   "display_name": "Python 3",
   "language": "python",
   "name": "python3"
  },
  "language_info": {
   "codemirror_mode": {
    "name": "ipython",
    "version": 3
   },
   "file_extension": ".py",
   "mimetype": "text/x-python",
   "name": "python",
   "nbconvert_exporter": "python",
   "pygments_lexer": "ipython3",
   "version": "3.6.6"
  }
 },
 "nbformat": 4,
 "nbformat_minor": 2
}
