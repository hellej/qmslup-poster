{
 "cells": [
  {
   "cell_type": "code",
   "execution_count": 58,
   "metadata": {},
   "outputs": [],
   "source": [
    "# import modules\n",
    "from matrix_utils import targets_ykr_ids, get_travel_times_to_targets, add_min_travel_times_to_df, add_population_to_travel_times, calculate_cumulative_pop\n",
    "\n",
    "import glob\n",
    "import numpy as np\n",
    "import pandas as pd\n",
    "import geopandas as gpd"
   ]
  },
  {
   "cell_type": "code",
   "execution_count": 59,
   "metadata": {},
   "outputs": [],
   "source": [
    "# read files\n",
    "cinemas = gpd.read_file('data/cinemas.shp') # CHANGE TARGET SHP HERE\n",
    "grid = gpd.read_file('data/MetropAccess_YKR_grid_EurefFIN.shp')\n",
    "ykr_pop = pd.read_csv('data/ykr_pop_join.csv')"
   ]
  },
  {
   "cell_type": "code",
   "execution_count": 60,
   "metadata": {},
   "outputs": [
    {
     "name": "stdout",
     "output_type": "stream",
     "text": [
      "             name  rooms  seats      city\n",
      "4        FLAMINGO      6    951    Vantaa\n",
      "13    KINOPALATSI     10   1511  Helsinki\n",
      "17          OMENA      7    845     Espoo\n",
      "20          SELLO      6    817     Espoo\n",
      "21  TENNISPALATSI     14   2696  Helsinki\n"
     ]
    }
   ],
   "source": [
    "# set either small or large cinemas as targets\n",
    "large_cinemas = cinemas.loc[cinemas['rooms'] > 2]\n",
    "small_cinemas = cinemas.loc[cinemas['rooms'] <= 2]\n",
    "targets = large_cinemas\n",
    "print(targets[['name', 'rooms', 'seats', 'city']])"
   ]
  },
  {
   "cell_type": "code",
   "execution_count": 61,
   "metadata": {},
   "outputs": [
    {
     "name": "stdout",
     "output_type": "stream",
     "text": [
      "CRS match: True\n",
      "YKR ids: [5879925, 5975376, 5978593, 5936704, 5975372]\n"
     ]
    }
   ],
   "source": [
    "# get ykr_ids for targets\n",
    "target_ids = targets_ykr_ids(grid, targets)"
   ]
  },
  {
   "cell_type": "code",
   "execution_count": 62,
   "metadata": {},
   "outputs": [
    {
     "name": "stdout",
     "output_type": "stream",
     "text": [
      "dropped 211 rows with na values\n"
     ]
    },
    {
     "name": "stderr",
     "output_type": "stream",
     "text": [
      "/Users/joose/Documents/hy/qmslup-poster/matrix_utils.py:84: SettingWithCopyWarning: \n",
      "A value is trying to be set on a copy of a slice from a DataFrame.\n",
      "Try using .loc[row_indexer,col_indexer] = value instead\n",
      "\n",
      "See the caveats in the documentation: http://pandas.pydata.org/pandas-docs/stable/indexing.html#indexing-view-versus-copy\n",
      "  ttimes['min_t'] = [int(value) for value in ttimes['min_t']]\n"
     ]
    }
   ],
   "source": [
    "# get traveltimes 2015 to targets \n",
    "folder15 = 'data/HelsinkiRegion_TravelTimeMatrix2015/'\n",
    "ttimes15 = get_travel_times_to_targets(grid, target_ids, folder15)\n",
    "ttimes15 = add_min_travel_times_to_df(ttimes15)\n",
    "ttimes_pop_15 = add_population_to_travel_times(ttimes15, ykr_pop)\n",
    "cum_pops_15 = calculate_cumulative_pop(ttimes_pop_15)"
   ]
  },
  {
   "cell_type": "code",
   "execution_count": 63,
   "metadata": {},
   "outputs": [
    {
     "data": {
      "text/html": [
       "<div>\n",
       "<style scoped>\n",
       "    .dataframe tbody tr th:only-of-type {\n",
       "        vertical-align: middle;\n",
       "    }\n",
       "\n",
       "    .dataframe tbody tr th {\n",
       "        vertical-align: top;\n",
       "    }\n",
       "\n",
       "    .dataframe thead th {\n",
       "        text-align: right;\n",
       "    }\n",
       "</style>\n",
       "<table border=\"1\" class=\"dataframe\">\n",
       "  <thead>\n",
       "    <tr style=\"text-align: right;\">\n",
       "      <th></th>\n",
       "      <th>YKR_ID</th>\n",
       "      <th>geometry</th>\n",
       "      <th>min_t</th>\n",
       "      <th>min_idx</th>\n",
       "    </tr>\n",
       "  </thead>\n",
       "  <tbody>\n",
       "    <tr>\n",
       "      <th>0</th>\n",
       "      <td>5785640</td>\n",
       "      <td>POLYGON ((382000.0001388059 6697750.000128186,...</td>\n",
       "      <td>99</td>\n",
       "      <td>pt_r_t_0</td>\n",
       "    </tr>\n",
       "    <tr>\n",
       "      <th>1</th>\n",
       "      <td>5785641</td>\n",
       "      <td>POLYGON ((382250.00013875 6697750.000128181, 3...</td>\n",
       "      <td>112</td>\n",
       "      <td>pt_r_t_0</td>\n",
       "    </tr>\n",
       "  </tbody>\n",
       "</table>\n",
       "</div>"
      ],
      "text/plain": [
       "    YKR_ID                                           geometry  min_t   min_idx\n",
       "0  5785640  POLYGON ((382000.0001388059 6697750.000128186,...     99  pt_r_t_0\n",
       "1  5785641  POLYGON ((382250.00013875 6697750.000128181, 3...    112  pt_r_t_0"
      ]
     },
     "execution_count": 63,
     "metadata": {},
     "output_type": "execute_result"
    }
   ],
   "source": [
    "ttimes15.head(2)"
   ]
  },
  {
   "cell_type": "code",
   "execution_count": 64,
   "metadata": {},
   "outputs": [
    {
     "name": "stdout",
     "output_type": "stream",
     "text": [
      "dropped 127 rows with na values\n"
     ]
    },
    {
     "name": "stderr",
     "output_type": "stream",
     "text": [
      "/Users/joose/Documents/hy/qmslup-poster/matrix_utils.py:84: SettingWithCopyWarning: \n",
      "A value is trying to be set on a copy of a slice from a DataFrame.\n",
      "Try using .loc[row_indexer,col_indexer] = value instead\n",
      "\n",
      "See the caveats in the documentation: http://pandas.pydata.org/pandas-docs/stable/indexing.html#indexing-view-versus-copy\n",
      "  ttimes['min_t'] = [int(value) for value in ttimes['min_t']]\n"
     ]
    }
   ],
   "source": [
    "# get traveltimes 2018 to targets \n",
    "folder18 = 'data/HelsinkiTravelTimeMatrix2018/'\n",
    "ttimes18 = get_travel_times_to_targets(grid, target_ids, folder18)\n",
    "ttimes18 = add_min_travel_times_to_df(ttimes18)\n",
    "ttimes_pop_18 = add_population_to_travel_times(ttimes18, ykr_pop)\n",
    "cum_pops_18 = calculate_cumulative_pop(ttimes_pop_18)"
   ]
  },
  {
   "cell_type": "code",
   "execution_count": 65,
   "metadata": {},
   "outputs": [
    {
     "data": {
      "text/html": [
       "<div>\n",
       "<style scoped>\n",
       "    .dataframe tbody tr th:only-of-type {\n",
       "        vertical-align: middle;\n",
       "    }\n",
       "\n",
       "    .dataframe tbody tr th {\n",
       "        vertical-align: top;\n",
       "    }\n",
       "\n",
       "    .dataframe thead th {\n",
       "        text-align: right;\n",
       "    }\n",
       "</style>\n",
       "<table border=\"1\" class=\"dataframe\">\n",
       "  <thead>\n",
       "    <tr style=\"text-align: right;\">\n",
       "      <th></th>\n",
       "      <th>YKR_ID</th>\n",
       "      <th>geometry</th>\n",
       "      <th>min_t</th>\n",
       "      <th>min_idx</th>\n",
       "      <th>ASUKKAITA</th>\n",
       "    </tr>\n",
       "  </thead>\n",
       "  <tbody>\n",
       "    <tr>\n",
       "      <th>0</th>\n",
       "      <td>5787548</td>\n",
       "      <td>POLYGON ((382250.0001387566 6697500.000128225,...</td>\n",
       "      <td>109</td>\n",
       "      <td>pt_r_t_0</td>\n",
       "      <td>10</td>\n",
       "    </tr>\n",
       "    <tr>\n",
       "      <th>1</th>\n",
       "      <td>5791356</td>\n",
       "      <td>POLYGON ((381000.0001390452 6697000.000128352,...</td>\n",
       "      <td>55</td>\n",
       "      <td>pt_r_t_0</td>\n",
       "      <td>13</td>\n",
       "    </tr>\n",
       "  </tbody>\n",
       "</table>\n",
       "</div>"
      ],
      "text/plain": [
       "    YKR_ID                                           geometry  min_t  \\\n",
       "0  5787548  POLYGON ((382250.0001387566 6697500.000128225,...    109   \n",
       "1  5791356  POLYGON ((381000.0001390452 6697000.000128352,...     55   \n",
       "\n",
       "    min_idx  ASUKKAITA  \n",
       "0  pt_r_t_0         10  \n",
       "1  pt_r_t_0         13  "
      ]
     },
     "execution_count": 65,
     "metadata": {},
     "output_type": "execute_result"
    }
   ],
   "source": [
    "# export 2018 travel times to SHP\n",
    "ttimes18.to_file('results/18_min_time_closest_targ.shp')\n",
    "ttimes_pop_18.to_file('results/18_min_time_closest_targ_pop.shp')\n",
    "ttimes_pop_18.head(2)"
   ]
  },
  {
   "cell_type": "code",
   "execution_count": 67,
   "metadata": {},
   "outputs": [
    {
     "data": {
      "image/png": "[encoded data removed]",
      "text/plain": [
       "<Figure size 864x504 with 1 Axes>"
      ]
     },
     "metadata": {},
     "output_type": "display_data"
    }
   ],
   "source": [
    "# PLOTS\n",
    "import matplotlib.pyplot as plt\n",
    "\n",
    "# prepare fig & ax for plotting\n",
    "fig, ax = plt.subplots(figsize=(12,7))\n",
    "\n",
    "# plot data\n",
    "ax.plot(cum_pops_18['time'], cum_pops_18['cumpopulation'], c='red', label='2018')\n",
    "ax.plot(cum_pops_15['time'], cum_pops_15['cumpopulation'], c='black', label='2015')\n",
    "\n",
    "# set labels\n",
    "ax.set(xlabel='Travel time (PT)', ylabel='Population reached')\n",
    "\n",
    "# set axis & ticks\n",
    "ax.set_xlim([0,71])\n",
    "ax.grid()\n",
    "# ticks every 10\n",
    "x_ticks = np.arange(0, 71, 10)\n",
    "#y_ticks = np.arange(0, 1110000, 100000)\n",
    "ax.set_xticks(x_ticks)\n",
    "#ax.set_yticks(y_ticks)\n",
    "\n",
    "# set font size\n",
    "plt.rcParams.update({'font.size': 12})\n",
    "ax.xaxis.label.set_size(14)\n",
    "ax.yaxis.label.set_size(14)\n",
    "\n",
    "# add legend\n",
    "ax.legend()\n",
    "\n",
    "# save plot\n",
    "fig.savefig('plots/pop_curve_test.png', dpi=150)\n",
    "fig.savefig('plots/pop_curve_test.eps', format='eps', dpi=1000)\n",
    "\n",
    "# show plot\n",
    "plt.show()"
   ]
  },
  {
   "cell_type": "code",
   "execution_count": null,
   "metadata": {},
   "outputs": [],
   "source": []
  }
 ],
 "metadata": {
  "kernelspec": {
   "display_name": "Python 3",
   "language": "python",
   "name": "python3"
  },
  "language_info": {
   "codemirror_mode": {
    "name": "ipython",
    "version": 3
   },
   "file_extension": ".py",
   "mimetype": "text/x-python",
   "name": "python",
   "nbconvert_exporter": "python",
   "pygments_lexer": "ipython3",
   "version": "3.6.6"
  }
 },
 "nbformat": 4,
 "nbformat_minor": 2
}
