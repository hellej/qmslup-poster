{
 "cells": [
  {
   "cell_type": "code",
   "execution_count": 1,
   "metadata": {},
   "outputs": [
    {
     "name": "stdout",
     "output_type": "stream",
     "text": [
      "grid cols:  Index(['x', 'y', 'YKR_ID', 'geometry'], dtype='object')\n",
      "pop cols:  Index(['INDEX', 'ASUKKAITA', 'ASVALJYYS', 'IKA0_9', 'IKA10_19', 'IKA20_29',\n",
      "       'IKA30_39', 'IKA40_49', 'IKA50_59', 'IKA60_69', 'IKA70_79', 'IKA_YLI80',\n",
      "       'geometry'],\n",
      "      dtype='object')\n"
     ]
    }
   ],
   "source": [
    "# import modules\n",
    "import glob\n",
    "import pandas as pd\n",
    "import geopandas as gpd\n",
    "import numpy as np\n",
    "\n",
    "grid = gpd.read_file('data/MetropAccess_YKR_grid_EurefFIN.shp')\n",
    "pop = gpd.read_file('data/hsy_vaesto_2017/Vaestoruudukko_2017.shp')\n",
    "\n",
    "# print column names\n",
    "print('grid cols: ', grid.columns)\n",
    "print('pop cols: ', pop.columns)"
   ]
  },
  {
   "cell_type": "code",
   "execution_count": 2,
   "metadata": {},
   "outputs": [],
   "source": [
    "# select cloumns\n",
    "grid = grid[['YKR_ID', 'geometry']]\n",
    "pop = pop[['INDEX', 'ASUKKAITA', 'geometry']]"
   ]
  },
  {
   "cell_type": "code",
   "execution_count": 3,
   "metadata": {},
   "outputs": [
    {
     "name": "stdout",
     "output_type": "stream",
     "text": [
      "CRS match: False\n",
      "CRS match: True\n"
     ]
    }
   ],
   "source": [
    "# check if CRS of layers match (-> False)\n",
    "print('CRS match:', pop.crs == grid.crs)\n",
    "\n",
    "# reproject targets to grid CRS\n",
    "grid = grid.to_crs(pop.crs)\n",
    "# CRS should now match\n",
    "print('CRS match:', pop.crs == grid.crs)"
   ]
  },
  {
   "cell_type": "code",
   "execution_count": 4,
   "metadata": {},
   "outputs": [
    {
     "data": {
      "text/html": [
       "<div>\n",
       "<style scoped>\n",
       "    .dataframe tbody tr th:only-of-type {\n",
       "        vertical-align: middle;\n",
       "    }\n",
       "\n",
       "    .dataframe tbody tr th {\n",
       "        vertical-align: top;\n",
       "    }\n",
       "\n",
       "    .dataframe thead th {\n",
       "        text-align: right;\n",
       "    }\n",
       "</style>\n",
       "<table border=\"1\" class=\"dataframe\">\n",
       "  <thead>\n",
       "    <tr style=\"text-align: right;\">\n",
       "      <th></th>\n",
       "      <th>YKR_ID</th>\n",
       "      <th>geometry</th>\n",
       "      <th>polygon</th>\n",
       "      <th>centroid</th>\n",
       "    </tr>\n",
       "  </thead>\n",
       "  <tbody>\n",
       "    <tr>\n",
       "      <th>0</th>\n",
       "      <td>5785640</td>\n",
       "      <td>POINT (25492063.88127363 6698641.140198288)</td>\n",
       "      <td>POLYGON ((25492192.64703292 6698519.963662694,...</td>\n",
       "      <td>POINT (25492063.88127363 6698641.140198288)</td>\n",
       "    </tr>\n",
       "    <tr>\n",
       "      <th>1</th>\n",
       "      <td>5785641</td>\n",
       "      <td>POINT (25492313.82362312 6698648.729479884)</td>\n",
       "      <td>POLYGON ((25492442.58946918 6698527.552862262,...</td>\n",
       "      <td>POINT (25492313.82362312 6698648.729479884)</td>\n",
       "    </tr>\n",
       "  </tbody>\n",
       "</table>\n",
       "</div>"
      ],
      "text/plain": [
       "    YKR_ID                                     geometry  \\\n",
       "0  5785640  POINT (25492063.88127363 6698641.140198288)   \n",
       "1  5785641  POINT (25492313.82362312 6698648.729479884)   \n",
       "\n",
       "                                             polygon  \\\n",
       "0  POLYGON ((25492192.64703292 6698519.963662694,...   \n",
       "1  POLYGON ((25492442.58946918 6698527.552862262,...   \n",
       "\n",
       "                                      centroid  \n",
       "0  POINT (25492063.88127363 6698641.140198288)  \n",
       "1  POINT (25492313.82362312 6698648.729479884)  "
      ]
     },
     "execution_count": 4,
     "metadata": {},
     "output_type": "execute_result"
    }
   ],
   "source": [
    "# centroids\n",
    "grid['polygon'] = [geom for geom in grid['geometry']]\n",
    "grid['centroid'] = [geom.centroid for geom in grid['geometry']]\n",
    "grid['geometry'] = [geom for geom in grid['centroid']]\n",
    "\n",
    "grid.head(2)"
   ]
  },
  {
   "cell_type": "code",
   "execution_count": 5,
   "metadata": {},
   "outputs": [],
   "source": [
    "# join population info (from points) to grid cells\n",
    "grid_pop = gpd.sjoin(grid, pop, how=\"inner\", op=\"intersects\")"
   ]
  },
  {
   "cell_type": "code",
   "execution_count": 6,
   "metadata": {},
   "outputs": [
    {
     "name": "stdout",
     "output_type": "stream",
     "text": [
      "grid cells: 13231\n",
      "pops cells: 5811\n",
      "grid pop cells: 5797\n",
      "grid pop cells (unique): 5797\n"
     ]
    },
    {
     "data": {
      "text/html": [
       "<div>\n",
       "<style scoped>\n",
       "    .dataframe tbody tr th:only-of-type {\n",
       "        vertical-align: middle;\n",
       "    }\n",
       "\n",
       "    .dataframe tbody tr th {\n",
       "        vertical-align: top;\n",
       "    }\n",
       "\n",
       "    .dataframe thead th {\n",
       "        text-align: right;\n",
       "    }\n",
       "</style>\n",
       "<table border=\"1\" class=\"dataframe\">\n",
       "  <thead>\n",
       "    <tr style=\"text-align: right;\">\n",
       "      <th></th>\n",
       "      <th>YKR_ID</th>\n",
       "      <th>geometry</th>\n",
       "      <th>polygon</th>\n",
       "      <th>centroid</th>\n",
       "      <th>index_right</th>\n",
       "      <th>INDEX</th>\n",
       "      <th>ASUKKAITA</th>\n",
       "    </tr>\n",
       "  </thead>\n",
       "  <tbody>\n",
       "    <tr>\n",
       "      <th>8</th>\n",
       "      <td>5787548</td>\n",
       "      <td>POINT (25492321.4128227 6698398.787043612)</td>\n",
       "      <td>POLYGON ((25492450.17858673 6698277.6103392, 2...</td>\n",
       "      <td>POINT (25492321.4128227 6698398.787043612)</td>\n",
       "      <td>2672</td>\n",
       "      <td>13452</td>\n",
       "      <td>10</td>\n",
       "    </tr>\n",
       "    <tr>\n",
       "      <th>24</th>\n",
       "      <td>5791356</td>\n",
       "      <td>POINT (25491086.88058525 6697860.958328503)</td>\n",
       "      <td>POLYGON ((25491215.64575126 6697739.781860806,...</td>\n",
       "      <td>POINT (25491086.88058525 6697860.958328503)</td>\n",
       "      <td>2407</td>\n",
       "      <td>12644</td>\n",
       "      <td>13</td>\n",
       "    </tr>\n",
       "  </tbody>\n",
       "</table>\n",
       "</div>"
      ],
      "text/plain": [
       "     YKR_ID                                     geometry  \\\n",
       "8   5787548   POINT (25492321.4128227 6698398.787043612)   \n",
       "24  5791356  POINT (25491086.88058525 6697860.958328503)   \n",
       "\n",
       "                                              polygon  \\\n",
       "8   POLYGON ((25492450.17858673 6698277.6103392, 2...   \n",
       "24  POLYGON ((25491215.64575126 6697739.781860806,...   \n",
       "\n",
       "                                       centroid  index_right  INDEX  ASUKKAITA  \n",
       "8    POINT (25492321.4128227 6698398.787043612)         2672  13452         10  \n",
       "24  POINT (25491086.88058525 6697860.958328503)         2407  12644         13  "
      ]
     },
     "execution_count": 6,
     "metadata": {},
     "output_type": "execute_result"
    }
   ],
   "source": [
    "print('grid cells:', len(grid))\n",
    "print('pops cells:', len(pop))\n",
    "print('grid pop cells:', len(grid_pop))\n",
    "print('grid pop cells (unique):', len(grid_pop.YKR_ID.unique()))\n",
    "grid_pop.head(2)"
   ]
  },
  {
   "cell_type": "code",
   "execution_count": 7,
   "metadata": {},
   "outputs": [],
   "source": [
    "# save YKR pops to files:\n",
    "# SHP\n",
    "grid_pop['geometry'] = [geom for geom in grid_pop['polygon']]\n",
    "grid_pop = grid_pop[['YKR_ID', 'geometry', 'ASUKKAITA']]\n",
    "grid_pop.head(2)\n",
    "fp = 'data/ykr_pop_join.shp'\n",
    "grid_pop.to_file(fp)\n",
    "\n",
    "# CSV\n",
    "grid_pop = grid_pop[['YKR_ID', 'ASUKKAITA']]\n",
    "grid_pop.to_csv('data/ykr_pop_join.csv', encoding='utf-8', index=False)"
   ]
  },
  {
   "cell_type": "code",
   "execution_count": null,
   "metadata": {},
   "outputs": [],
   "source": []
  }
 ],
 "metadata": {
  "kernelspec": {
   "display_name": "Python 3",
   "language": "python",
   "name": "python3"
  },
  "language_info": {
   "codemirror_mode": {
    "name": "ipython",
    "version": 3
   },
   "file_extension": ".py",
   "mimetype": "text/x-python",
   "name": "python",
   "nbconvert_exporter": "python",
   "pygments_lexer": "ipython3",
   "version": "3.6.6"
  }
 },
 "nbformat": 4,
 "nbformat_minor": 2
}
