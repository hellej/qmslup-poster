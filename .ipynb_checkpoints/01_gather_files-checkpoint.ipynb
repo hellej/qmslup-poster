{
 "cells": [
  {
   "cell_type": "code",
   "execution_count": 2,
   "metadata": {},
   "outputs": [],
   "source": [
    "# import modules\n",
    "import glob\n",
    "import pandas as pd\n",
    "import geopandas as gpd"
   ]
  },
  {
   "cell_type": "code",
   "execution_count": 8,
   "metadata": {},
   "outputs": [
    {
     "name": "stdout",
     "output_type": "stream",
     "text": [
      "          x          y   YKR_ID  \\\n",
      "0  381875.0  6697880.0  5785640   \n",
      "1  382125.0  6697880.0  5785641   \n",
      "2  382375.0  6697880.0  5785642   \n",
      "3  382625.0  6697880.0  5785643   \n",
      "4  381125.0  6697630.0  5787544   \n",
      "\n",
      "                                            geometry  \n",
      "0  POLYGON ((382000.0001388059 6697750.000128186,...  \n",
      "1  POLYGON ((382250.00013875 6697750.000128181, 3...  \n",
      "2  POLYGON ((382500.0001386951 6697750.000128172,...  \n",
      "3  POLYGON ((382750.0001386406 6697750.000128165,...  \n",
      "4  POLYGON ((381250.000138978 6697500.000128254, ...  \n",
      "                                             address  id       name  \\\n",
      "0  Kauppakeskus Itis, 1-7, Itäkatu, Itäkeskus, Va...   0       Itis   \n",
      "1  Mannerheimintie, Keskusta, Kluuvi, Eteläinen s...   1      Forum   \n",
      "2  Iso Omena, 11, Piispansilta, Espoo, Helsingin ...   2  Iso-Omena   \n",
      "3  3-9, Leppävaarankatu, Etelä-Leppävaara, Leppäv...   3      Sello   \n",
      "4  Stockmann, 3, Vantaanportinkatu, Pakkala, Avia...   4      Jumbo   \n",
      "\n",
      "                                             addr  \\\n",
      "0            Itäkatu 1-7, 00930 Helsinki, Finland   \n",
      "1  Mannerheimintie 14-20, 00100 Helsinki, Finland   \n",
      "2           Piispansilta 11, 02230 Espoo, Finland   \n",
      "3       Leppävaarankatu 3-9, 02600 Espoo, Finland   \n",
      "4      Vantaanportinkatu 3, 01510 Vantaa, Finland   \n",
      "\n",
      "                                      geometry  \n",
      "0  POINT (25504598.41930912 6677662.776904543)  \n",
      "1   POINT (25496453.7290285 6673171.406976718)  \n",
      "2  POINT (25485470.33883667 6672071.306847659)  \n",
      "3  POINT (25489463.74430429 6678451.782203159)  \n",
      "4  POINT (25497943.93191118 6686656.981809774)  \n"
     ]
    }
   ],
   "source": [
    "# read files\n",
    "filepaths = glob.glob('data/travel_times/*.txt')\n",
    "grid = gpd.read_file('data/MetropAccess_YKR_grid_EurefFIN.shp')\n",
    "shops = gpd.read_file('data/shopping_centers/shopping_centers.shp')\n",
    "\n",
    "print(grid.head())\n",
    "print(shops.head())"
   ]
  },
  {
   "cell_type": "code",
   "execution_count": 14,
   "metadata": {},
   "outputs": [
    {
     "data": {
      "text/plain": [
       "True"
      ]
     },
     "execution_count": 14,
     "metadata": {},
     "output_type": "execute_result"
    }
   ],
   "source": [
    "# check if crs of layers match (-> False)\n",
    "shops.crs == grid.crs"
   ]
  },
  {
   "cell_type": "code",
   "execution_count": 18,
   "metadata": {},
   "outputs": [
    {
     "data": {
      "text/plain": [
       "True"
      ]
     },
     "execution_count": 18,
     "metadata": {},
     "output_type": "execute_result"
    }
   ],
   "source": [
    "# reproject shops to grid crs\n",
    "shops = shops.to_crs(grid.crs)\n",
    "# crs should now match\n",
    "shops.crs == grid.crs"
   ]
  },
  {
   "cell_type": "code",
   "execution_count": 22,
   "metadata": {},
   "outputs": [],
   "source": [
    "# join ykr grid info to shops\n",
    "\n",
    "shops_ykr = gpd.sjoin(shops, grid, how=\"inner\", op=\"within\")"
   ]
  },
  {
   "cell_type": "code",
   "execution_count": 23,
   "metadata": {},
   "outputs": [],
   "source": [
    "ykr_ids = shops_ykr.YKR_ID.tolist()"
   ]
  },
  {
   "cell_type": "code",
   "execution_count": 24,
   "metadata": {},
   "outputs": [
    {
     "name": "stdout",
     "output_type": "stream",
     "text": [
      "[5944003, 5973736, 5978593, 5934891, 5878070, 5963664]\n"
     ]
    }
   ],
   "source": [
    "print(ykr_ids)"
   ]
  },
  {
   "cell_type": "code",
   "execution_count": null,
   "metadata": {},
   "outputs": [],
   "source": []
  }
 ],
 "metadata": {
  "kernelspec": {
   "display_name": "Python 3",
   "language": "python",
   "name": "python3"
  },
  "language_info": {
   "codemirror_mode": {
    "name": "ipython",
    "version": 3
   },
   "file_extension": ".py",
   "mimetype": "text/x-python",
   "name": "python",
   "nbconvert_exporter": "python",
   "pygments_lexer": "ipython3",
   "version": "3.6.5"
  }
 },
 "nbformat": 4,
 "nbformat_minor": 2
}
