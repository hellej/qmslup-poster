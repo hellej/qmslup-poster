{
 "cells": [
  {
   "cell_type": "code",
   "execution_count": 74,
   "metadata": {},
   "outputs": [],
   "source": [
    "# import modules\n",
    "import glob\n",
    "import pandas as pd\n",
    "import geopandas as gpd"
   ]
  },
  {
   "cell_type": "code",
   "execution_count": 75,
   "metadata": {},
   "outputs": [
    {
     "name": "stdout",
     "output_type": "stream",
     "text": [
      "grid cols:  Index(['x', 'y', 'YKR_ID', 'geometry'], dtype='object')\n",
      "targets cols:  Index(['address', 'id', 'name', 'addr', 'geometry'], dtype='object')\n"
     ]
    }
   ],
   "source": [
    "# read files\n",
    "filepaths = glob.glob('data/travel_times/*.txt')\n",
    "grid = gpd.read_file('data/MetropAccess_YKR_grid_EurefFIN.shp')\n",
    "targets = gpd.read_file('data/shopping_centers/shopping_centers.shp')\n",
    "\n",
    "# print column names\n",
    "print('grid cols: ', grid.columns)\n",
    "print('targets cols: ', targets.columns)"
   ]
  },
  {
   "cell_type": "code",
   "execution_count": 76,
   "metadata": {},
   "outputs": [
    {
     "name": "stdout",
     "output_type": "stream",
     "text": [
      "CRS match: False\n"
     ]
    }
   ],
   "source": [
    "# check if CRS of layers match (-> False)\n",
    "print('CRS match:', targets.crs == grid.crs)"
   ]
  },
  {
   "cell_type": "code",
   "execution_count": 77,
   "metadata": {},
   "outputs": [
    {
     "name": "stdout",
     "output_type": "stream",
     "text": [
      "CRS match: True\n"
     ]
    }
   ],
   "source": [
    "# reproject targets to grid CRS\n",
    "targets = targets.to_crs(grid.crs)\n",
    "# CRS should now match\n",
    "print('CRS match:', targets.crs == grid.crs)"
   ]
  },
  {
   "cell_type": "code",
   "execution_count": 78,
   "metadata": {},
   "outputs": [
    {
     "name": "stdout",
     "output_type": "stream",
     "text": [
      "YKR ids: [5944003, 5973736, 5978593, 5934891, 5878070, 5963664]\n"
     ]
    }
   ],
   "source": [
    "# join ykr grid info to targets\n",
    "targets_ykr = gpd.sjoin(targets, grid, how=\"inner\", op=\"within\")\n",
    "# get the ids as list\n",
    "ykr_ids = targets_ykr.YKR_ID.tolist()\n",
    "print('YKR ids:', ykr_ids)"
   ]
  },
  {
   "cell_type": "code",
   "execution_count": 79,
   "metadata": {},
   "outputs": [],
   "source": [
    "# gather filepaths to selected travel times to list\n",
    "folder = 'data/HelsinkiRegion_TravelTimeMatrix2015/'\n",
    "filepaths = []\n",
    "for id in ykr_ids:\n",
    "    subfolder = str(id)[:4]+'xxx/'\n",
    "    filename = 'travel_times_to_ '+str(id)+'.txt'\n",
    "    filepaths.append(folder + subfolder + filename)"
   ]
  },
  {
   "cell_type": "code",
   "execution_count": 80,
   "metadata": {},
   "outputs": [],
   "source": [
    "# read files from filepaths\n",
    "tt_dfs = []\n",
    "for idx, fp in enumerate(filepaths):\n",
    "    data = pd.read_csv(fp, sep=';')\n",
    "    data = data[['from_id', 'pt_r_t']]\n",
    "    tt_dfs.append(data)\n",
    "\n",
    "# rename travel time columns in dataframes\n",
    "t_columns = []\n",
    "for idx, tt_df in enumerate(tt_dfs):\n",
    "    columnn = 'pt_r_t_'+str(idx)\n",
    "    tt_df.columns = ['from_id', columnn]\n",
    "    t_columns.append(columnn)\n",
    "\n",
    "# combine travel times\n",
    "ttimes = grid    \n",
    "for tt_df in tt_dfs:\n",
    "    ttimes = pd.merge(ttimes, tt_df, how='inner', left_on='YKR_ID', right_on='from_id')\n"
   ]
  },
  {
   "cell_type": "code",
   "execution_count": 87,
   "metadata": {},
   "outputs": [
    {
     "data": {
      "text/html": [
       "<div>\n",
       "<style scoped>\n",
       "    .dataframe tbody tr th:only-of-type {\n",
       "        vertical-align: middle;\n",
       "    }\n",
       "\n",
       "    .dataframe tbody tr th {\n",
       "        vertical-align: top;\n",
       "    }\n",
       "\n",
       "    .dataframe thead th {\n",
       "        text-align: right;\n",
       "    }\n",
       "</style>\n",
       "<table border=\"1\" class=\"dataframe\">\n",
       "  <thead>\n",
       "    <tr style=\"text-align: right;\">\n",
       "      <th></th>\n",
       "      <th>x</th>\n",
       "      <th>y</th>\n",
       "      <th>YKR_ID</th>\n",
       "      <th>geometry</th>\n",
       "      <th>pt_r_t_0</th>\n",
       "      <th>pt_r_t_1</th>\n",
       "      <th>pt_r_t_2</th>\n",
       "      <th>pt_r_t_3</th>\n",
       "      <th>pt_r_t_4</th>\n",
       "      <th>pt_r_t_5</th>\n",
       "    </tr>\n",
       "  </thead>\n",
       "  <tbody>\n",
       "    <tr>\n",
       "      <th>0</th>\n",
       "      <td>381875.0</td>\n",
       "      <td>6697880.0</td>\n",
       "      <td>5785640</td>\n",
       "      <td>POLYGON ((382000.0001388059 6697750.000128186,...</td>\n",
       "      <td>132</td>\n",
       "      <td>109</td>\n",
       "      <td>141</td>\n",
       "      <td>109</td>\n",
       "      <td>101</td>\n",
       "      <td>124</td>\n",
       "    </tr>\n",
       "    <tr>\n",
       "      <th>1</th>\n",
       "      <td>382125.0</td>\n",
       "      <td>6697880.0</td>\n",
       "      <td>5785641</td>\n",
       "      <td>POLYGON ((382250.00013875 6697750.000128181, 3...</td>\n",
       "      <td>135</td>\n",
       "      <td>112</td>\n",
       "      <td>143</td>\n",
       "      <td>112</td>\n",
       "      <td>108</td>\n",
       "      <td>127</td>\n",
       "    </tr>\n",
       "    <tr>\n",
       "      <th>2</th>\n",
       "      <td>382375.0</td>\n",
       "      <td>6697880.0</td>\n",
       "      <td>5785642</td>\n",
       "      <td>POLYGON ((382500.0001386951 6697750.000128172,...</td>\n",
       "      <td>137</td>\n",
       "      <td>113</td>\n",
       "      <td>145</td>\n",
       "      <td>114</td>\n",
       "      <td>109</td>\n",
       "      <td>128</td>\n",
       "    </tr>\n",
       "  </tbody>\n",
       "</table>\n",
       "</div>"
      ],
      "text/plain": [
       "          x          y   YKR_ID  \\\n",
       "0  381875.0  6697880.0  5785640   \n",
       "1  382125.0  6697880.0  5785641   \n",
       "2  382375.0  6697880.0  5785642   \n",
       "\n",
       "                                            geometry  pt_r_t_0  pt_r_t_1  \\\n",
       "0  POLYGON ((382000.0001388059 6697750.000128186,...       132       109   \n",
       "1  POLYGON ((382250.00013875 6697750.000128181, 3...       135       112   \n",
       "2  POLYGON ((382500.0001386951 6697750.000128172,...       137       113   \n",
       "\n",
       "   pt_r_t_2  pt_r_t_3  pt_r_t_4  pt_r_t_5  \n",
       "0       141       109       101       124  \n",
       "1       143       112       108       127  \n",
       "2       145       114       109       128  "
      ]
     },
     "execution_count": 87,
     "metadata": {},
     "output_type": "execute_result"
    }
   ],
   "source": [
    "# select only relevant columns from the data\n",
    "columns = ['x', 'y', 'YKR_ID', 'geometry']\n",
    "ttimes = ttimes[columns + t_columns]\n",
    "ttimes.head(3)"
   ]
  },
  {
   "cell_type": "code",
   "execution_count": 88,
   "metadata": {},
   "outputs": [],
   "source": [
    "# save travel times to file\n",
    "outfp = 'results/travel_times_raw.shp'\n",
    "ttimes.to_file(outfp)"
   ]
  },
  {
   "cell_type": "code",
   "execution_count": null,
   "metadata": {},
   "outputs": [],
   "source": []
  }
 ],
 "metadata": {
  "kernelspec": {
   "display_name": "Python 3",
   "language": "python",
   "name": "python3"
  },
  "language_info": {
   "codemirror_mode": {
    "name": "ipython",
    "version": 3
   },
   "file_extension": ".py",
   "mimetype": "text/x-python",
   "name": "python",
   "nbconvert_exporter": "python",
   "pygments_lexer": "ipython3",
   "version": "3.6.6"
  }
 },
 "nbformat": 4,
 "nbformat_minor": 2
}
